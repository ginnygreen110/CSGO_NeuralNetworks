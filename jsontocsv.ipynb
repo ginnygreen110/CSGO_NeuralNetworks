{
 "cells": [
  {
   "cell_type": "code",
   "execution_count": 4,
   "source": [
    "import json\r\n",
    "import csv\r\n",
    "import pandas as pd\r\n",
    "from csv import DictReader\r\n",
    "import os\r\n",
    "from pathlib import Path"
   ],
   "outputs": [],
   "metadata": {}
  },
  {
   "cell_type": "code",
   "execution_count": 8,
   "source": [
    "def normalize(networkfile, networkfileclean):# Opening JSON file and loading the data into the variable data\r\n",
    "    data_folder = Path(\"../CSGOreplaysfiles/\")\r\n",
    "    json_file = data_folder / networkfile\r\n",
    "    with open(json_file) as file:\r\n",
    "        data = json.load(file)\r\n",
    "    # Flatten json data\r\n",
    "    flat = pd.json_normalize(data)\r\n",
    "    f = open(r'tempfile.csv', 'w')\r\n",
    "    flat.to_csv(f, index = False, encoding='utf-8')\r\n",
    "    with open('tempfile.csv', 'r') as read_obj:\r\n",
    "            byte_data = []\r\n",
    "            timestamps = []\r\n",
    "            byte_lengths = []\r\n",
    "            csv_reader = DictReader(read_obj)\r\n",
    "            for row in csv_reader:\r\n",
    "                byte_data.append(row['_source.layers.data.data.data'])\r\n",
    "                timestamps.append(row['_source.layers.frame.frame.time'])\r\n",
    "                byte_lengths.append(row['_source.layers.data.data.len'])\r\n",
    "\r\n",
    "                # Open a file to store clean network data and write  columns of data bytes, corresponding timestamps and length of these data bytes\r\n",
    "    clean_file = data_folder / networkfileclean\r\n",
    "    with open(clean_file, \"w\") as csvfile:\r\n",
    "            writer = csv.writer(csvfile)\r\n",
    "            for value in range(len(byte_data)):\r\n",
    "                writer.writerow([timestamps[value], byte_data[value], byte_lengths[value]])        \r\n",
    "    # close and delete temp file\r\n",
    "    f.close()\r\n",
    "    os.remove(\"tempfile.csv\")\r\n"
   ],
   "outputs": [],
   "metadata": {}
  },
  {
   "cell_type": "code",
   "execution_count": 9,
   "source": [
    "normalize(\"june25_2_filtered.json\", \"june25_2_networkdata_clean.csv\")"
   ],
   "outputs": [
    {
     "output_type": "stream",
     "name": "stdout",
     "text": [
      "1280.0\n"
     ]
    }
   ],
   "metadata": {}
  }
 ],
 "metadata": {
  "orig_nbformat": 4,
  "language_info": {
   "name": "python",
   "version": "3.9.5",
   "mimetype": "text/x-python",
   "codemirror_mode": {
    "name": "ipython",
    "version": 3
   },
   "pygments_lexer": "ipython3",
   "nbconvert_exporter": "python",
   "file_extension": ".py"
  },
  "kernelspec": {
   "name": "python3",
   "display_name": "Python 3.9.5 64-bit"
  },
  "interpreter": {
   "hash": "0df9b756dc715440520d3e0f8749470baf4c08b0c3ff922bf29b47b50f81b062"
  }
 },
 "nbformat": 4,
 "nbformat_minor": 2
}