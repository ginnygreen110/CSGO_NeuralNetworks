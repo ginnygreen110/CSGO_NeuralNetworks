{
 "cells": [
  {
   "cell_type": "code",
   "execution_count": 4,
   "source": [
    "import json\r\n",
    "import csv\r\n",
    "import pandas as pd\r\n",
    "from csv import DictReader\r\n",
    "import os\r\n",
    "from pathlib import Path"
   ],
   "outputs": [],
   "metadata": {}
  },
  {
   "cell_type": "code",
   "execution_count": 5,
   "source": [
    "def normalize(networkfile):# Opening JSON file and loading the data into the variable data\r\n",
    "    data_folder = Path(\"../CSGOreplaysfiles/\")\r\n",
    "    json_file = data_folder / networkfile\r\n",
    "    networkfileclean = networkfile.replace(\"_filtered.json\",\"_networkdata_clean.csv\")\r\n",
    "    print(networkfileclean)\r\n",
    "    with open(json_file) as file:\r\n",
    "        data = json.load(file)\r\n",
    "    # Flatten json data\r\n",
    "    flat = pd.json_normalize(data)\r\n",
    "    f = open(r'tempfile.csv', 'w')\r\n",
    "    flat.to_csv(f, index = False, encoding='utf-8')\r\n",
    "    with open('tempfile.csv', 'r') as read_obj:\r\n",
    "            byte_data = []\r\n",
    "            timestamps = []\r\n",
    "            byte_lengths = []\r\n",
    "            csv_reader = DictReader(read_obj)\r\n",
    "            for row in csv_reader:\r\n",
    "                byte_data.append(row['_source.layers.data.data.data'])\r\n",
    "                timestamps.append(row['_source.layers.frame.frame.time'])\r\n",
    "                byte_lengths.append(row['_source.layers.data.data.len'])\r\n",
    "\r\n",
    "                # Open a file to store clean network data and write  columns of data bytes, corresponding timestamps and length of these data bytes\r\n",
    "    clean_file = data_folder / networkfileclean\r\n",
    "    with open(clean_file, \"w\") as csvfile:\r\n",
    "            writer = csv.writer(csvfile)\r\n",
    "            for value in range(len(byte_data)):\r\n",
    "                writer.writerow([timestamps[value], byte_data[value], byte_lengths[value]])        \r\n",
    "    # close and delete temp file\r\n",
    "    f.close()\r\n",
    "    os.remove(\"tempfile.csv\")\r\n"
   ],
   "outputs": [],
   "metadata": {}
  },
  {
   "cell_type": "code",
   "execution_count": 6,
   "source": [
    "normalize(\"june25_2_filtered.json\")"
   ],
   "outputs": [
    {
     "output_type": "error",
     "ename": "AttributeError",
     "evalue": "'str' object has no attribute 'Replace'",
     "traceback": [
      "\u001b[1;31m---------------------------------------------------------------------------\u001b[0m",
      "\u001b[1;31mAttributeError\u001b[0m                            Traceback (most recent call last)",
      "\u001b[1;32m<ipython-input-6-494f3707553d>\u001b[0m in \u001b[0;36m<module>\u001b[1;34m\u001b[0m\n\u001b[1;32m----> 1\u001b[1;33m \u001b[0mnormalize\u001b[0m\u001b[1;33m(\u001b[0m\u001b[1;34m\"june25_2_filtered.json\"\u001b[0m\u001b[1;33m)\u001b[0m\u001b[1;33m\u001b[0m\u001b[1;33m\u001b[0m\u001b[0m\n\u001b[0m",
      "\u001b[1;32m<ipython-input-5-f5d188684c99>\u001b[0m in \u001b[0;36mnormalize\u001b[1;34m(networkfile)\u001b[0m\n\u001b[0;32m      2\u001b[0m     \u001b[0mdata_folder\u001b[0m \u001b[1;33m=\u001b[0m \u001b[0mPath\u001b[0m\u001b[1;33m(\u001b[0m\u001b[1;34m\"../CSGOreplaysfiles/\"\u001b[0m\u001b[1;33m)\u001b[0m\u001b[1;33m\u001b[0m\u001b[1;33m\u001b[0m\u001b[0m\n\u001b[0;32m      3\u001b[0m     \u001b[0mjson_file\u001b[0m \u001b[1;33m=\u001b[0m \u001b[0mdata_folder\u001b[0m \u001b[1;33m/\u001b[0m \u001b[0mnetworkfile\u001b[0m\u001b[1;33m\u001b[0m\u001b[1;33m\u001b[0m\u001b[0m\n\u001b[1;32m----> 4\u001b[1;33m     \u001b[0mnetworkfileclean\u001b[0m \u001b[1;33m=\u001b[0m \u001b[0mnetworkfile\u001b[0m\u001b[1;33m.\u001b[0m\u001b[0mReplace\u001b[0m\u001b[1;33m(\u001b[0m\u001b[1;34m\"_filtered.json\"\u001b[0m\u001b[1;33m,\u001b[0m\u001b[1;34m\"_networkdata_clean.csv\"\u001b[0m\u001b[1;33m)\u001b[0m\u001b[1;33m\u001b[0m\u001b[1;33m\u001b[0m\u001b[0m\n\u001b[0m\u001b[0;32m      5\u001b[0m     \u001b[0mprint\u001b[0m\u001b[1;33m(\u001b[0m\u001b[0mnetworkfileclean\u001b[0m\u001b[1;33m)\u001b[0m\u001b[1;33m\u001b[0m\u001b[1;33m\u001b[0m\u001b[0m\n\u001b[0;32m      6\u001b[0m     \u001b[1;32mwith\u001b[0m \u001b[0mopen\u001b[0m\u001b[1;33m(\u001b[0m\u001b[0mjson_file\u001b[0m\u001b[1;33m)\u001b[0m \u001b[1;32mas\u001b[0m \u001b[0mfile\u001b[0m\u001b[1;33m:\u001b[0m\u001b[1;33m\u001b[0m\u001b[1;33m\u001b[0m\u001b[0m\n",
      "\u001b[1;31mAttributeError\u001b[0m: 'str' object has no attribute 'Replace'"
     ]
    }
   ],
   "metadata": {}
  }
 ],
 "metadata": {
  "orig_nbformat": 4,
  "language_info": {
   "name": "python",
   "version": "3.9.5",
   "mimetype": "text/x-python",
   "codemirror_mode": {
    "name": "ipython",
    "version": 3
   },
   "pygments_lexer": "ipython3",
   "nbconvert_exporter": "python",
   "file_extension": ".py"
  },
  "kernelspec": {
   "name": "python3",
   "display_name": "Python 3.9.5 64-bit"
  },
  "interpreter": {
   "hash": "0df9b756dc715440520d3e0f8749470baf4c08b0c3ff922bf29b47b50f81b062"
  }
 },
 "nbformat": 4,
 "nbformat_minor": 2
}